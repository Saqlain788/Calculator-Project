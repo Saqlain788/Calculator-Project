{
  "nbformat": 4,
  "nbformat_minor": 0,
  "metadata": {
    "colab": {
      "provenance": [],
      "authorship_tag": "ABX9TyOyjpPfVkMKOfPJ+GbsZsIs",
      "include_colab_link": true
    },
    "kernelspec": {
      "name": "python3",
      "display_name": "Python 3"
    },
    "language_info": {
      "name": "python"
    }
  },
  "cells": [
    {
      "cell_type": "markdown",
      "metadata": {
        "id": "view-in-github",
        "colab_type": "text"
      },
      "source": [
        "<a href=\"https://colab.research.google.com/github/Saqlain788/Calculator-Project/blob/main/Projects_python.ipynb\" target=\"_parent\"><img src=\"https://colab.research.google.com/assets/colab-badge.svg\" alt=\"Open In Colab\"/></a>"
      ]
    },
    {
      "cell_type": "markdown",
      "source": [
        "## 1. JOKE BOT\n",
        "Write a simple joke bot. The bot starts by asking the user what they want. However, your program will only respond to one response: Joke.\n",
        "\n",
        "If the user enters Joke then we will print out a single joke. Each time the joke is always the same:\n",
        "\n",
        "Here is a joke for you! Panaversity GPT - Sophia is heading out to the grocery store. A programmer tells her: get a liter of milk, and if they have eggs, get 12. Sophia returns with 13 liters of milk. The programmer asks why and Sophia replies: 'because they had eggs'\n",
        "\n",
        "If the user enters anything else we print out:\n",
        "\n",
        "Sorry I only tell jokes\n",
        "\n",
        "You should use the three constants:\n",
        "\n",
        "PROMPT JOKE SORRY\n",
        "\n",
        "which contain the strings for the prompt asked to the user, the joke to print out if the user enters Joke and the sorry message if the user enters anything else."
      ],
      "metadata": {
        "id": "3jf_D5oXOUGW"
      }
    },
    {
      "cell_type": "code",
      "source": [
        "# Through Procedural Programming\n",
        "# Contants\n",
        "PROMPT : str = \"What would you like to do?\"\n",
        "JOKE: str = \"Here is a joke for you! Panaversity GPT - Sophia is heading out to the grocery store\"\n",
        "\n",
        "# Define a Function\n",
        "def joke_bot() -> str:\n",
        "  # 1. Get User Input\n",
        "  user_input = input(\"What is your message?\")\n",
        "  print(user_input)\n",
        "  # if else statement\n",
        "  if user_input.lower() == \"joke\":\n",
        "      print(JOKE)\n",
        "  else:\n",
        "      print(\"Sorry, I only tell jokes\")\n",
        "\n",
        "joke_bot()"
      ],
      "metadata": {
        "colab": {
          "base_uri": "https://localhost:8080/"
        },
        "id": "L7wy5uL7Oasb",
        "outputId": "6f1fbf7b-d59f-4b16-a03a-5287aed2bc70"
      },
      "execution_count": 4,
      "outputs": [
        {
          "output_type": "stream",
          "name": "stdout",
          "text": [
            "What is your message?joke\n",
            "joke\n",
            "Here is a joke for you! Panaversity GPT - Sophia is heading out to the grocery store\n"
          ]
        }
      ]
    },
    {
      "cell_type": "code",
      "source": [
        "# Through Functional Programming.\n",
        "# Constants\n",
        "PROMPT: str = \"What would you like to do?\"\n",
        "JOKE: str = \"Here is a joke for you! Panaversity GPT - Sophia is heading out to the grocery store\"\n",
        "NO_JOKE: str = \"Sorry, I only tell jokes\"\n",
        "\n",
        "# Define a Pure Function\n",
        "def get_response(user_input: str) -> str:\n",
        "    return JOKE if user_input.lower().strip() == \"joke\" else NO_JOKE\n",
        "\n",
        "# Example usage\n",
        "user_input = input(PROMPT)\n",
        "response = get_response(user_input)\n",
        "print(response)\n"
      ],
      "metadata": {
        "colab": {
          "base_uri": "https://localhost:8080/"
        },
        "id": "9W7lnhiYPkNZ",
        "outputId": "814fbf9d-8eca-485d-84ca-b2d9879daffe"
      },
      "execution_count": 5,
      "outputs": [
        {
          "output_type": "stream",
          "name": "stdout",
          "text": [
            "What would you like to do?joke\n",
            "Here is a joke for you! Panaversity GPT - Sophia is heading out to the grocery store\n"
          ]
        }
      ]
    },
    {
      "cell_type": "code",
      "source": [
        "# Through OOP\n",
        "# Constants\n",
        "PROMPT: str = \"What would you like to do?\"\n",
        "JOKE: str = \"Here is a joke for you! Panaversity GPT - Sophia is heading out to the grocery store\"\n",
        "NO_JOKE: str = \"Sorry, I only tell jokes\"\n",
        "\n",
        "# Define a Class for JokeBot\n",
        "class JokeBot:\n",
        "    def __init__(self, prompt: str, joke: str, no_joke: str) -> None:\n",
        "        self.prompt = prompt\n",
        "        self.joke = joke\n",
        "        self.no_joke = no_joke\n",
        "\n",
        "    def run(self) -> None:\n",
        "        user_input = input(self.prompt).strip().lower()\n",
        "        print(self.joke if user_input == \"joke\" else self.no_joke)\n",
        "\n",
        "# Instantiate and run the joke bot\n",
        "joke_bot = JokeBot(PROMPT, JOKE, NO_JOKE)\n",
        "joke_bot.run()\n"
      ],
      "metadata": {
        "id": "_mN9qu3KThM5"
      },
      "execution_count": 6,
      "outputs": []
    },
    {
      "cell_type": "markdown",
      "source": [
        "## 2. Double it\n",
        "Write a program that asks a user to enter a number. Your program will then double that number and print out the result. It will repeat that process until the value is 100 or greater.\n",
        "\n",
        "For example if the user enters the number 2 you would then print:\n",
        "\n",
        "4 8 16 32 64 128\n",
        "\n",
        "Note that:\n",
        "\n",
        "2 doubled is 4\n",
        "\n",
        "4 doubled is 8\n",
        "\n",
        "8 doubled is 16\n",
        "\n",
        "and so on.\n",
        "\n",
        "We stop at 128 because that value is greater than 100.\n"
      ],
      "metadata": {
        "id": "DnhkEE-sUiaH"
      }
    },
    {
      "cell_type": "code",
      "source": [
        "def double_number():\n",
        "  # Get User Input & Type casting\n",
        "  user_input : int = int(input(\"Enter a Number: \"))\n",
        "\n",
        "  # Loop: While & For\n",
        "  while user_input <= 100:\n",
        "    user_input *= 2\n",
        "    # user_input = 2 * user_input\n",
        "    print(user_input, end=\" \")\n",
        "\n",
        "double_number()"
      ],
      "metadata": {
        "colab": {
          "base_uri": "https://localhost:8080/"
        },
        "id": "i3Cd_vZTUaaS",
        "outputId": "8ee0646a-60a7-4e29-8a9e-014dc86077e6"
      },
      "execution_count": 12,
      "outputs": [
        {
          "output_type": "stream",
          "name": "stdout",
          "text": [
            "Enter a Number: 4\n",
            "8 16 32 64 128 "
          ]
        }
      ]
    },
    {
      "cell_type": "markdown",
      "source": [
        "## 3. Liftoff Counter\n",
        "Write a program that prints out the calls for a spaceship that is about to launch. Countdown from 10 to 1 and then output Liftoff!\n",
        "\n",
        "Here's a sample run of the program:\n",
        "\n",
        "10 9 8 7 6 5 4 3 2 1 Liftoff!"
      ],
      "metadata": {
        "id": "dUVoxTAIXeMP"
      }
    },
    {
      "cell_type": "code",
      "source": [
        "def liftoff():\n",
        "  # Loop: For\n",
        "  for i in range(10, 0, -1):\n",
        "    print(i, end=\" \")\n",
        "  print(\"Liftoff!\")\n",
        "\n",
        "liftoff()"
      ],
      "metadata": {
        "colab": {
          "base_uri": "https://localhost:8080/"
        },
        "id": "vrwi6PN6TjuT",
        "outputId": "2b0e0d7d-c74e-406b-c1ff-0d738ac3c5b3"
      },
      "execution_count": 15,
      "outputs": [
        {
          "output_type": "stream",
          "name": "stdout",
          "text": [
            "10 9 8 7 6 5 4 3 2 1 Liftoff!\n"
          ]
        }
      ]
    },
    {
      "cell_type": "code",
      "source": [
        "# List and For Loop\n",
        "number_list : list[int] = [10, 9, 8, 7, 6, 5, 4, 3, 2, 1]\n",
        "def countdown():\n",
        "  for i in number_list:\n",
        "    print(i, end=\" \")\n",
        "  print(\"Liftoff!\")\n",
        "countdown()"
      ],
      "metadata": {
        "colab": {
          "base_uri": "https://localhost:8080/"
        },
        "id": "wSdcthdBZ9eX",
        "outputId": "f6ddb3f5-d9bb-4134-8e4d-b1a0ac87ece5"
      },
      "execution_count": 16,
      "outputs": [
        {
          "output_type": "stream",
          "name": "stdout",
          "text": [
            "10 9 8 7 6 5 4 3 2 1 Liftoff!\n"
          ]
        }
      ]
    }
  ]
}